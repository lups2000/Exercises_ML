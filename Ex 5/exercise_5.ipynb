{
 "cells": [
  {
   "cell_type": "markdown",
   "metadata": {
    "heading_collapsed": true
   },
   "source": [
    "# Programming assignment 3: Optimization - Logistic Regression"
   ]
  },
  {
   "cell_type": "code",
   "execution_count": 24,
   "metadata": {
    "hidden": true
   },
   "outputs": [],
   "source": [
    "import numpy as np\n",
    "import matplotlib.pyplot as plt\n",
    "%matplotlib inline\n",
    "\n",
    "from sklearn.datasets import load_breast_cancer\n",
    "from sklearn.model_selection import train_test_split\n",
    "from sklearn.metrics import accuracy_score, f1_score"
   ]
  },
  {
   "cell_type": "markdown",
   "metadata": {
    "heading_collapsed": true,
    "hidden": true
   },
   "source": [
    "## Your task"
   ]
  },
  {
   "cell_type": "markdown",
   "metadata": {
    "hidden": true
   },
   "source": [
    "In this notebook code skeleton for performing logistic regression with gradient descent is given. \n",
    "Your task is to complete the functions where required. \n",
    "You are only allowed to use built-in Python functions, as well as any `numpy` functions. No other libraries / imports are allowed."
   ]
  },
  {
   "attachments": {},
   "cell_type": "markdown",
   "metadata": {
    "hidden": true
   },
   "source": [
    "For numerical reasons, we actually minimize the following loss function\n",
    "\n",
    "$$\\mathcal{L}(\\mathbf{w}) = \\frac{1}{N} NLL(\\mathbf{w}) +  \\frac{1}{2}\\lambda ||\\mathbf{w}||^2_2$$\n",
    "\n",
    "where $NLL(\\mathbf{w})$ is the negative log-likelihood function, as defined in the lecture (see Slide 39)."
   ]
  },
  {
   "cell_type": "markdown",
   "metadata": {
    "heading_collapsed": true,
    "hidden": true
   },
   "source": [
    "## Load and preprocess the data"
   ]
  },
  {
   "cell_type": "markdown",
   "metadata": {
    "hidden": true
   },
   "source": [
    "In this assignment we will work with the UCI ML Breast Cancer Wisconsin (Diagnostic) dataset https://goo.gl/U2Uwz2.\n",
    "\n",
    "Features are computed from a digitized image of a fine needle aspirate (FNA) of a breast mass. They describe characteristics of the cell nuclei present in the image. There are 212 malignant examples and 357 benign examples."
   ]
  },
  {
   "cell_type": "code",
   "execution_count": 25,
   "metadata": {
    "collapsed": true,
    "hidden": true
   },
   "outputs": [],
   "source": [
    "X, y = load_breast_cancer(return_X_y=True)\n",
    "\n",
    "# Add a vector of ones to the data matrix to absorb the bias term\n",
    "X = np.hstack([np.ones([X.shape[0], 1]), X])\n",
    "\n",
    "# Set the random seed so that we have reproducible experiments\n",
    "np.random.seed(123)\n",
    "\n",
    "# Split into train and test\n",
    "test_size = 0.3\n",
    "X_train, X_test, y_train, y_test = train_test_split(X, y, test_size=test_size)"
   ]
  },
  {
   "cell_type": "markdown",
   "metadata": {
    "heading_collapsed": true,
    "hidden": true
   },
   "source": [
    "## Task 1: Implement the sigmoid function "
   ]
  },
  {
   "cell_type": "code",
   "execution_count": 26,
   "metadata": {
    "collapsed": true,
    "hidden": true
   },
   "outputs": [],
   "source": [
    "def sigmoid(t):\n",
    "    \"\"\"\n",
    "    Applies the sigmoid function elementwise to the input data.\n",
    "    \n",
    "    Parameters\n",
    "    ----------\n",
    "    t : array, arbitrary shape\n",
    "        Input data.\n",
    "        \n",
    "    Returns\n",
    "    -------\n",
    "    t_sigmoid : array, arbitrary shape.\n",
    "        Data after applying the sigmoid function.\n",
    "    \"\"\"\n",
    "    \n",
    "    result = 1/(1+np.exp(-t))\n",
    "\n",
    "    return result"
   ]
  },
  {
   "cell_type": "markdown",
   "metadata": {
    "heading_collapsed": true,
    "hidden": true
   },
   "source": [
    "## Task 2: Implement the negative log likelihood"
   ]
  },
  {
   "cell_type": "markdown",
   "metadata": {
    "hidden": true
   },
   "source": [
    "As defined in Eq. 33"
   ]
  },
  {
   "cell_type": "code",
   "execution_count": 27,
   "metadata": {
    "collapsed": true,
    "hidden": true
   },
   "outputs": [],
   "source": [
    "def negative_log_likelihood(X, y, w):\n",
    "    \"\"\"\n",
    "    Negative Log Likelihood of the Logistic Regression.\n",
    "    \n",
    "    Parameters\n",
    "    ----------\n",
    "    X : array, shape [N, D]\n",
    "        (Augmented) feature matrix.\n",
    "    y : array, shape [N]\n",
    "        Classification targets.\n",
    "    w : array, shape [D]\n",
    "        Regression coefficients (w[0] is the bias term).\n",
    "        \n",
    "    Returns\n",
    "    -------\n",
    "    nll : float\n",
    "        The negative log likelihood.\n",
    "    \"\"\"\n",
    "    \n",
    "    scores = sigmoid(np.dot(X,w))\n",
    "\n",
    "    result = - np.sum((y * np.log(scores)) + ((1-y) * np.log(1- scores)))\n",
    "\n",
    "    return result"
   ]
  },
  {
   "cell_type": "markdown",
   "metadata": {
    "hidden": true
   },
   "source": [
    "### Computing the loss function $\\mathcal{L}(\\mathbf{w})$ (nothing to do here)"
   ]
  },
  {
   "cell_type": "code",
   "execution_count": 28,
   "metadata": {
    "collapsed": true,
    "hidden": true
   },
   "outputs": [],
   "source": [
    "def compute_loss(X, y, w, lmbda):\n",
    "    \"\"\"\n",
    "    Negative Log Likelihood of the Logistic Regression.\n",
    "    \n",
    "    Parameters\n",
    "    ----------\n",
    "    X : array, shape [N, D]\n",
    "        (Augmented) feature matrix.\n",
    "    y : array, shape [N]\n",
    "        Classification targets.\n",
    "    w : array, shape [D]\n",
    "        Regression coefficients (w[0] is the bias term).\n",
    "    lmbda : float\n",
    "        L2 regularization strength.\n",
    "        \n",
    "    Returns\n",
    "    -------\n",
    "    loss : float\n",
    "        Loss of the regularized logistic regression model.\n",
    "    \"\"\"\n",
    "    # The bias term w[0] is not regularized by convention\n",
    "    return negative_log_likelihood(X, y, w) / len(y) + lmbda * 0.5 * np.linalg.norm(w[1:])**2"
   ]
  },
  {
   "cell_type": "markdown",
   "metadata": {
    "heading_collapsed": true,
    "hidden": true
   },
   "source": [
    "## Task 3: Implement the gradient $\\nabla_{\\mathbf{w}}\\mathcal{L}(\\mathbf{w})$"
   ]
  },
  {
   "cell_type": "markdown",
   "metadata": {
    "hidden": true
   },
   "source": [
    "Make sure that you compute the gradient of the loss function $\\mathcal{L}(\\mathbf{w})$ (not simply the NLL!)"
   ]
  },
  {
   "cell_type": "code",
   "execution_count": 29,
   "metadata": {
    "collapsed": true,
    "hidden": true
   },
   "outputs": [],
   "source": [
    "def get_gradient(X, y, w, mini_batch_indices, lmbda):\n",
    "    \"\"\"\n",
    "    Calculates the gradient (full or mini-batch) of the negative log likelilhood w.r.t. w.\n",
    "    \n",
    "    Parameters\n",
    "    ----------\n",
    "    X : array, shape [N, D]\n",
    "        (Augmented) feature matrix.\n",
    "    y : array, shape [N]\n",
    "        Classification targets.\n",
    "    w : array, shape [D]\n",
    "        Regression coefficients (w[0] is the bias term).\n",
    "    mini_batch_indices: array, shape [mini_batch_size]\n",
    "        The indices of the data points to be included in the (stochastic) calculation of the gradient.\n",
    "        This includes the full batch gradient as well, if mini_batch_indices = np.arange(n_train).\n",
    "    lmbda: float\n",
    "        Regularization strentgh. lmbda = 0 means having no regularization.\n",
    "        \n",
    "    Returns\n",
    "    -------\n",
    "    dw : array, shape [D]\n",
    "        Gradient w.r.t. w.\n",
    "    \"\"\"\n",
    "    \n",
    "    N = len(y)\n",
    "    mini_batch_size = len(mini_batch_indices)\n",
    "\n",
    "    y_pred = sigmoid(np.dot(X,w))\n",
    "\n",
    "    # Compute the gradient of the negative log likelihood w.r.t. w\n",
    "    dw = (1 / mini_batch_size) * np.dot(X[mini_batch_indices].T, y_pred[mini_batch_indices] - y[mini_batch_indices])\n",
    "\n",
    "    # Add regularization term (excluding the bias term)\n",
    "    dw[1:] += (lmbda / N) * w[1:]\n",
    "\n",
    "    return dw"
   ]
  },
  {
   "cell_type": "markdown",
   "metadata": {
    "hidden": true
   },
   "source": [
    "### Train the logistic regression model (nothing to do here)"
   ]
  },
  {
   "cell_type": "code",
   "execution_count": 30,
   "metadata": {
    "collapsed": true,
    "hidden": true
   },
   "outputs": [],
   "source": [
    "def logistic_regression(X, y, num_steps, learning_rate, mini_batch_size, lmbda, verbose):\n",
    "    \"\"\"\n",
    "    Performs logistic regression with (stochastic) gradient descent.\n",
    "    \n",
    "    Parameters\n",
    "    ----------\n",
    "    X : array, shape [N, D]\n",
    "        (Augmented) feature matrix.\n",
    "    y : array, shape [N]\n",
    "        Classification targets.\n",
    "    num_steps : int\n",
    "        Number of steps of gradient descent to perform.\n",
    "    learning_rate: float\n",
    "        The learning rate to use when updating the parameters w.\n",
    "    mini_batch_size: int\n",
    "        The number of examples in each mini-batch.\n",
    "        If mini_batch_size=n_train we perform full batch gradient descent. \n",
    "    lmbda: float\n",
    "        Regularization strentgh. lmbda = 0 means having no regularization.\n",
    "    verbose : bool\n",
    "        Whether to print the loss during optimization.\n",
    "        \n",
    "    Returns\n",
    "    -------\n",
    "    w : array, shape [D]\n",
    "        Optimal regression coefficients (w[0] is the bias term).\n",
    "    trace: list\n",
    "        Trace of the loss function after each step of gradient descent.\n",
    "    \"\"\"\n",
    "    \n",
    "    trace = [] # saves the value of loss every 50 iterations to be able to plot it later\n",
    "    n_train = X.shape[0] # number of training instances\n",
    "    \n",
    "    w = np.zeros(X.shape[1]) # initialize the parameters to zeros\n",
    "    \n",
    "    # run gradient descent for a given number of steps\n",
    "    for step in range(num_steps):\n",
    "        permuted_idx = np.random.permutation(n_train) # shuffle the data\n",
    "        \n",
    "        # go over each mini-batch and update the paramters\n",
    "        # if mini_batch_size = n_train we perform full batch GD and this loop runs only once\n",
    "        for idx in range(0, n_train, mini_batch_size):\n",
    "            # get the random indices to be included in the mini batch\n",
    "            mini_batch_indices = permuted_idx[idx:idx+mini_batch_size]\n",
    "            gradient = get_gradient(X, y, w, mini_batch_indices, lmbda)\n",
    "\n",
    "            # update the parameters\n",
    "            w = w - learning_rate * gradient\n",
    "        \n",
    "        # calculate and save the current loss value every 50 iterations\n",
    "        if step % 50 == 0:\n",
    "            loss = compute_loss(X, y, w, lmbda)\n",
    "            trace.append(loss)\n",
    "            # print loss to monitor the progress\n",
    "            if verbose:\n",
    "                print('Step {0}, loss = {1:.4f}'.format(step, loss))\n",
    "    return w, trace"
   ]
  },
  {
   "cell_type": "markdown",
   "metadata": {
    "heading_collapsed": true,
    "hidden": true
   },
   "source": [
    "## Task 4: Implement the function to obtain the predictions"
   ]
  },
  {
   "cell_type": "code",
   "execution_count": 31,
   "metadata": {
    "collapsed": true,
    "hidden": true
   },
   "outputs": [],
   "source": [
    "def predict(X, w):\n",
    "    \"\"\"\n",
    "    Parameters\n",
    "    ----------\n",
    "    X : array, shape [N_test, D]\n",
    "        (Augmented) feature matrix.\n",
    "    w : array, shape [D]\n",
    "        Regression coefficients (w[0] is the bias term).\n",
    "        \n",
    "    Returns\n",
    "    -------\n",
    "    y_pred : array, shape [N_test]\n",
    "        A binary array of predictions.\n",
    "    \"\"\"\n",
    "    \n",
    "    return (sigmoid(np.dot(X, w)) > 0.5).astype(np.int)"
   ]
  },
  {
   "cell_type": "markdown",
   "metadata": {
    "hidden": true
   },
   "source": [
    "### Full batch gradient descent"
   ]
  },
  {
   "cell_type": "code",
   "execution_count": 32,
   "metadata": {
    "collapsed": true,
    "hidden": true
   },
   "outputs": [],
   "source": [
    "# Change this to True if you want to see loss values over iterations.\n",
    "verbose = True"
   ]
  },
  {
   "cell_type": "code",
   "execution_count": 33,
   "metadata": {
    "collapsed": true,
    "hidden": true
   },
   "outputs": [
    {
     "name": "stdout",
     "output_type": "stream",
     "text": [
      "Step 0, loss = 0.7427\n",
      "Step 50, loss = 0.9390\n",
      "Step 100, loss = 0.5167\n",
      "Step 150, loss = 0.3869\n",
      "Step 200, loss = 0.3676\n",
      "Step 250, loss = 0.3523\n",
      "Step 300, loss = 0.3396\n",
      "Step 350, loss = 0.3289\n",
      "Step 400, loss = 0.3198\n",
      "Step 450, loss = 0.3119\n",
      "Step 500, loss = 0.3050\n",
      "Step 550, loss = 0.2988\n",
      "Step 600, loss = 0.2933\n"
     ]
    },
    {
     "name": "stdout",
     "output_type": "stream",
     "text": [
      "Step 650, loss = 0.2884\n",
      "Step 700, loss = 0.2839\n",
      "Step 750, loss = 0.2799\n",
      "Step 800, loss = 0.2762\n",
      "Step 850, loss = 0.2728\n",
      "Step 900, loss = 0.2697\n",
      "Step 950, loss = 0.2669\n",
      "Step 1000, loss = 0.2642\n",
      "Step 1050, loss = 0.2617\n",
      "Step 1100, loss = 0.2594\n",
      "Step 1150, loss = 0.2573\n",
      "Step 1200, loss = 0.2553\n",
      "Step 1250, loss = 0.2535\n",
      "Step 1300, loss = 0.2517\n",
      "Step 1350, loss = 0.2501\n",
      "Step 1400, loss = 0.2485\n",
      "Step 1450, loss = 0.2471\n",
      "Step 1500, loss = 0.2457\n",
      "Step 1550, loss = 0.2444\n",
      "Step 1600, loss = 0.2432\n",
      "Step 1650, loss = 0.2420\n",
      "Step 1700, loss = 0.2409\n",
      "Step 1750, loss = 0.2399\n",
      "Step 1800, loss = 0.2389\n",
      "Step 1850, loss = 0.2379\n",
      "Step 1900, loss = 0.2370\n",
      "Step 1950, loss = 0.2362\n",
      "Step 2000, loss = 0.2353\n",
      "Step 2050, loss = 0.2346\n",
      "Step 2100, loss = 0.2338\n",
      "Step 2150, loss = 0.2331\n",
      "Step 2200, loss = 0.2324\n",
      "Step 2250, loss = 0.2318\n",
      "Step 2300, loss = 0.2311\n",
      "Step 2350, loss = 0.2305\n",
      "Step 2400, loss = 0.2300\n",
      "Step 2450, loss = 0.2294\n",
      "Step 2500, loss = 0.2289\n",
      "Step 2550, loss = 0.2284\n",
      "Step 2600, loss = 0.2279\n",
      "Step 2650, loss = 0.2274\n",
      "Step 2700, loss = 0.2269\n",
      "Step 2750, loss = 0.2265\n",
      "Step 2800, loss = 0.2261\n",
      "Step 2850, loss = 0.2256\n",
      "Step 2900, loss = 0.2252\n",
      "Step 2950, loss = 0.2249\n",
      "Step 3000, loss = 0.2245\n",
      "Step 3050, loss = 0.2241\n",
      "Step 3100, loss = 0.2238\n",
      "Step 3150, loss = 0.2234\n",
      "Step 3200, loss = 0.2231\n",
      "Step 3250, loss = 0.2228\n",
      "Step 3300, loss = 0.2225\n",
      "Step 3350, loss = 0.2222\n",
      "Step 3400, loss = 0.2219\n",
      "Step 3450, loss = 0.2216\n",
      "Step 3500, loss = 0.2213\n",
      "Step 3550, loss = 0.2211\n",
      "Step 3600, loss = 0.2208\n",
      "Step 3650, loss = 0.2206\n",
      "Step 3700, loss = 0.2203\n",
      "Step 3750, loss = 0.2201\n",
      "Step 3800, loss = 0.2199\n",
      "Step 3850, loss = 0.2196\n",
      "Step 3900, loss = 0.2194\n",
      "Step 3950, loss = 0.2192\n",
      "Step 4000, loss = 0.2190\n",
      "Step 4050, loss = 0.2188\n",
      "Step 4100, loss = 0.2186\n",
      "Step 4150, loss = 0.2184\n",
      "Step 4200, loss = 0.2182\n",
      "Step 4250, loss = 0.2180\n",
      "Step 4300, loss = 0.2178\n",
      "Step 4350, loss = 0.2176\n",
      "Step 4400, loss = 0.2175\n",
      "Step 4450, loss = 0.2173\n",
      "Step 4500, loss = 0.2171\n",
      "Step 4550, loss = 0.2170\n",
      "Step 4600, loss = 0.2168\n",
      "Step 4650, loss = 0.2166\n",
      "Step 4700, loss = 0.2165\n",
      "Step 4750, loss = 0.2163\n",
      "Step 4800, loss = 0.2162\n",
      "Step 4850, loss = 0.2160\n",
      "Step 4900, loss = 0.2159\n",
      "Step 4950, loss = 0.2158\n",
      "Step 5000, loss = 0.2156\n",
      "Step 5050, loss = 0.2155\n",
      "Step 5100, loss = 0.2154\n",
      "Step 5150, loss = 0.2152\n",
      "Step 5200, loss = 0.2151\n",
      "Step 5250, loss = 0.2150\n",
      "Step 5300, loss = 0.2149\n",
      "Step 5350, loss = 0.2147\n",
      "Step 5400, loss = 0.2146\n",
      "Step 5450, loss = 0.2145\n",
      "Step 5500, loss = 0.2144\n",
      "Step 5550, loss = 0.2143\n",
      "Step 5600, loss = 0.2142\n",
      "Step 5650, loss = 0.2141\n",
      "Step 5700, loss = 0.2139\n",
      "Step 5750, loss = 0.2138\n",
      "Step 5800, loss = 0.2137\n",
      "Step 5850, loss = 0.2136\n",
      "Step 5900, loss = 0.2135\n",
      "Step 5950, loss = 0.2134\n",
      "Step 6000, loss = 0.2133\n",
      "Step 6050, loss = 0.2132\n",
      "Step 6100, loss = 0.2131\n",
      "Step 6150, loss = 0.2130\n",
      "Step 6200, loss = 0.2129\n",
      "Step 6250, loss = 0.2129\n",
      "Step 6300, loss = 0.2128\n",
      "Step 6350, loss = 0.2127\n",
      "Step 6400, loss = 0.2126\n",
      "Step 6450, loss = 0.2125\n",
      "Step 6500, loss = 0.2124\n",
      "Step 6550, loss = 0.2123\n",
      "Step 6600, loss = 0.2122\n",
      "Step 6650, loss = 0.2122\n",
      "Step 6700, loss = 0.2121\n",
      "Step 6750, loss = 0.2120\n",
      "Step 6800, loss = 0.2119\n",
      "Step 6850, loss = 0.2118\n",
      "Step 6900, loss = 0.2117\n",
      "Step 6950, loss = 0.2117\n",
      "Step 7000, loss = 0.2116\n",
      "Step 7050, loss = 0.2115\n",
      "Step 7100, loss = 0.2114\n",
      "Step 7150, loss = 0.2114\n",
      "Step 7200, loss = 0.2113\n",
      "Step 7250, loss = 0.2112\n",
      "Step 7300, loss = 0.2111\n",
      "Step 7350, loss = 0.2111\n",
      "Step 7400, loss = 0.2110\n",
      "Step 7450, loss = 0.2109\n",
      "Step 7500, loss = 0.2109\n",
      "Step 7550, loss = 0.2108\n",
      "Step 7600, loss = 0.2107\n",
      "Step 7650, loss = 0.2107\n",
      "Step 7700, loss = 0.2106\n",
      "Step 7750, loss = 0.2105\n",
      "Step 7800, loss = 0.2105\n",
      "Step 7850, loss = 0.2104\n",
      "Step 7900, loss = 0.2103\n",
      "Step 7950, loss = 0.2103\n"
     ]
    }
   ],
   "source": [
    "n_train = X_train.shape[0]\n",
    "w_full, trace_full = logistic_regression(X_train, \n",
    "                                         y_train, \n",
    "                                         num_steps=8000, \n",
    "                                         learning_rate=1e-5, \n",
    "                                         mini_batch_size=n_train, \n",
    "                                         lmbda=0.1,\n",
    "                                         verbose=verbose)"
   ]
  },
  {
   "cell_type": "code",
   "execution_count": 34,
   "metadata": {
    "collapsed": true,
    "hidden": true
   },
   "outputs": [
    {
     "name": "stdout",
     "output_type": "stream",
     "text": [
      "Step 0, loss = 1.3392\n",
      "Step 50, loss = 0.3213\n",
      "Step 100, loss = 0.2859\n",
      "Step 150, loss = 0.2554\n",
      "Step 200, loss = 0.2582\n",
      "Step 250, loss = 0.2406\n",
      "Step 300, loss = 0.2286\n",
      "Step 350, loss = 0.2271\n",
      "Step 400, loss = 0.2221\n",
      "Step 450, loss = 0.2237\n",
      "Step 500, loss = 0.2220\n",
      "Step 550, loss = 0.2308\n",
      "Step 600, loss = 0.2157\n",
      "Step 650, loss = 0.2167\n",
      "Step 700, loss = 0.2144\n",
      "Step 750, loss = 0.2179\n",
      "Step 800, loss = 0.2121\n",
      "Step 850, loss = 0.2341\n",
      "Step 900, loss = 0.2110\n",
      "Step 950, loss = 0.2139\n",
      "Step 1000, loss = 0.2104\n",
      "Step 1050, loss = 0.2162\n",
      "Step 1100, loss = 0.2093\n",
      "Step 1150, loss = 0.2085\n",
      "Step 1200, loss = 0.2090\n",
      "Step 1250, loss = 0.2113\n",
      "Step 1300, loss = 0.2100\n",
      "Step 1350, loss = 0.2070\n",
      "Step 1400, loss = 0.2077\n",
      "Step 1450, loss = 0.2064\n",
      "Step 1500, loss = 0.2060\n",
      "Step 1550, loss = 0.2092\n",
      "Step 1600, loss = 0.2165\n",
      "Step 1650, loss = 0.2064\n",
      "Step 1700, loss = 0.2131\n",
      "Step 1750, loss = 0.2069\n",
      "Step 1800, loss = 0.2048\n",
      "Step 1850, loss = 0.2099\n",
      "Step 1900, loss = 0.2038\n",
      "Step 1950, loss = 0.2246\n",
      "Step 2000, loss = 0.2059\n",
      "Step 2050, loss = 0.2179\n",
      "Step 2100, loss = 0.2027\n",
      "Step 2150, loss = 0.2051\n",
      "Step 2200, loss = 0.2073\n",
      "Step 2250, loss = 0.2079\n",
      "Step 2300, loss = 0.2018\n",
      "Step 2350, loss = 0.2039\n",
      "Step 2400, loss = 0.2125\n",
      "Step 2450, loss = 0.2058\n",
      "Step 2500, loss = 0.2015\n",
      "Step 2550, loss = 0.2011\n",
      "Step 2600, loss = 0.2124\n",
      "Step 2650, loss = 0.2023\n",
      "Step 2700, loss = 0.2048\n",
      "Step 2750, loss = 0.2063\n",
      "Step 2800, loss = 0.1998\n",
      "Step 2850, loss = 0.2070\n",
      "Step 2900, loss = 0.1995\n",
      "Step 2950, loss = 0.2154\n",
      "Step 3000, loss = 0.1996\n",
      "Step 3050, loss = 0.1996\n",
      "Step 3100, loss = 0.2019\n",
      "Step 3150, loss = 0.2116\n",
      "Step 3200, loss = 0.2044\n",
      "Step 3250, loss = 0.1983\n",
      "Step 3300, loss = 0.1982\n",
      "Step 3350, loss = 0.2021\n",
      "Step 3400, loss = 0.1992\n",
      "Step 3450, loss = 0.2033\n",
      "Step 3500, loss = 0.2074\n",
      "Step 3550, loss = 0.2105\n",
      "Step 3600, loss = 0.1973\n",
      "Step 3650, loss = 0.2198\n",
      "Step 3700, loss = 0.1984\n",
      "Step 3750, loss = 0.1981\n",
      "Step 3800, loss = 0.1978\n",
      "Step 3850, loss = 0.2018\n",
      "Step 3900, loss = 0.1987\n",
      "Step 3950, loss = 0.2148\n",
      "Step 4000, loss = 0.2013\n",
      "Step 4050, loss = 0.1961\n",
      "Step 4100, loss = 0.2033\n",
      "Step 4150, loss = 0.1963\n",
      "Step 4200, loss = 0.1976\n",
      "Step 4250, loss = 0.2097\n",
      "Step 4300, loss = 0.1962\n",
      "Step 4350, loss = 0.1954\n",
      "Step 4400, loss = 0.2224\n",
      "Step 4450, loss = 0.1957\n",
      "Step 4500, loss = 0.2020\n",
      "Step 4550, loss = 0.1951\n",
      "Step 4600, loss = 0.1953\n",
      "Step 4650, loss = 0.1949\n",
      "Step 4700, loss = 0.2039\n",
      "Step 4750, loss = 0.1971\n",
      "Step 4800, loss = 0.1971\n",
      "Step 4850, loss = 0.1946\n",
      "Step 4900, loss = 0.1951\n",
      "Step 4950, loss = 0.1951\n",
      "Step 5000, loss = 0.1978\n",
      "Step 5050, loss = 0.1942\n",
      "Step 5100, loss = 0.2006\n",
      "Step 5150, loss = 0.1942\n",
      "Step 5200, loss = 0.1984\n",
      "Step 5250, loss = 0.2077\n",
      "Step 5300, loss = 0.2011\n",
      "Step 5350, loss = 0.1948\n",
      "Step 5400, loss = 0.1957\n",
      "Step 5450, loss = 0.1977\n",
      "Step 5500, loss = 0.1936\n",
      "Step 5550, loss = 0.1987\n",
      "Step 5600, loss = 0.1946\n",
      "Step 5650, loss = 0.1980\n",
      "Step 5700, loss = 0.1936\n",
      "Step 5750, loss = 0.1935\n",
      "Step 5800, loss = 0.1936\n",
      "Step 5850, loss = 0.2029\n",
      "Step 5900, loss = 0.1934\n",
      "Step 5950, loss = 0.1945\n",
      "Step 6000, loss = 0.1930\n",
      "Step 6050, loss = 0.1927\n",
      "Step 6100, loss = 0.1949\n",
      "Step 6150, loss = 0.1925\n",
      "Step 6200, loss = 0.1998\n",
      "Step 6250, loss = 0.1922\n",
      "Step 6300, loss = 0.1922\n",
      "Step 6350, loss = 0.1983\n",
      "Step 6400, loss = 0.1941\n",
      "Step 6450, loss = 0.1954\n",
      "Step 6500, loss = 0.1926\n",
      "Step 6550, loss = 0.1934\n",
      "Step 6600, loss = 0.1918\n",
      "Step 6650, loss = 0.2044\n",
      "Step 6700, loss = 0.1993\n",
      "Step 6750, loss = 0.1963\n",
      "Step 6800, loss = 0.1969\n",
      "Step 6850, loss = 0.1953\n",
      "Step 6900, loss = 0.1921\n",
      "Step 6950, loss = 0.1913\n",
      "Step 7000, loss = 0.1987\n",
      "Step 7050, loss = 0.1912\n",
      "Step 7100, loss = 0.1913\n",
      "Step 7150, loss = 0.2024\n",
      "Step 7200, loss = 0.1910\n",
      "Step 7250, loss = 0.1922\n",
      "Step 7300, loss = 0.1913\n",
      "Step 7350, loss = 0.1949\n",
      "Step 7400, loss = 0.1911\n",
      "Step 7450, loss = 0.1917\n",
      "Step 7500, loss = 0.1907\n",
      "Step 7550, loss = 0.1912\n",
      "Step 7600, loss = 0.1940\n",
      "Step 7650, loss = 0.1944\n",
      "Step 7700, loss = 0.1979\n",
      "Step 7750, loss = 0.1922\n",
      "Step 7800, loss = 0.1907\n",
      "Step 7850, loss = 0.1921\n",
      "Step 7900, loss = 0.1903\n",
      "Step 7950, loss = 0.1947\n"
     ]
    }
   ],
   "source": [
    "n_train = X_train.shape[0]\n",
    "w_minibatch, trace_minibatch = logistic_regression(X_train, \n",
    "                                                   y_train, \n",
    "                                                   num_steps=8000, \n",
    "                                                   learning_rate=1e-5, \n",
    "                                                   mini_batch_size=50, \n",
    "                                                   lmbda=0.1,\n",
    "                                                   verbose=verbose)"
   ]
  },
  {
   "cell_type": "markdown",
   "metadata": {
    "hidden": true
   },
   "source": [
    "Our reference solution produces, but don't worry if yours is not exactly the same. \n",
    "\n",
    "    Full batch: accuracy: 0.9240, f1_score: 0.9384\n",
    "    Mini-batch: accuracy: 0.9415, f1_score: 0.9533"
   ]
  },
  {
   "cell_type": "code",
   "execution_count": 35,
   "metadata": {
    "collapsed": true,
    "hidden": true
   },
   "outputs": [
    {
     "name": "stdout",
     "output_type": "stream",
     "text": [
      "Full batch: accuracy: 0.9240, f1_score: 0.9384\n",
      "Mini-batch: accuracy: 0.9415, f1_score: 0.9533\n"
     ]
    },
    {
     "name": "stderr",
     "output_type": "stream",
     "text": [
      "/var/folders/fp/y9nmf2t50p3_vyfsdjw2tclh0000gn/T/ipykernel_2460/420433949.py:16: DeprecationWarning: `np.int` is a deprecated alias for the builtin `int`. To silence this warning, use `int` by itself. Doing this will not modify any behavior and is safe. When replacing `np.int`, you may wish to use e.g. `np.int64` or `np.int32` to specify the precision. If you wish to review your current use, check the release note link for additional information.\n",
      "Deprecated in NumPy 1.20; for more details and guidance: https://numpy.org/devdocs/release/1.20.0-notes.html#deprecations\n",
      "  return (sigmoid(np.dot(X, w)) > 0.5).astype(np.int)\n"
     ]
    }
   ],
   "source": [
    "y_pred_full = predict(X_test, w_full)\n",
    "y_pred_minibatch = predict(X_test, w_minibatch)\n",
    "\n",
    "print('Full batch: accuracy: {:.4f}, f1_score: {:.4f}'\n",
    "      .format(accuracy_score(y_test, y_pred_full), f1_score(y_test, y_pred_full)))\n",
    "print('Mini-batch: accuracy: {:.4f}, f1_score: {:.4f}'\n",
    "      .format(accuracy_score(y_test, y_pred_minibatch), f1_score(y_test, y_pred_minibatch)))"
   ]
  },
  {
   "cell_type": "code",
   "execution_count": 36,
   "metadata": {
    "hidden": true
   },
   "outputs": [
    {
     "data": {
      "image/png": "[encoded data removed]",
      "text/plain": [
       "<Figure size 1500x1000 with 1 Axes>"
      ]
     },
     "metadata": {},
     "output_type": "display_data"
    }
   ],
   "source": [
    "plt.figure(figsize=[15, 10])\n",
    "plt.plot(trace_full, label='Full batch')\n",
    "plt.plot(trace_minibatch, label='Mini-batch')\n",
    "plt.xlabel('Iterations * 50')\n",
    "plt.ylabel('Loss $\\mathcal{L}(\\mathbf{w})$')\n",
    "plt.legend()\n",
    "plt.show()"
   ]
  }
 ],
 "metadata": {
  "anaconda-cloud": {},
  "kernelspec": {
   "display_name": "Python 3.8.10 64-bit",
   "language": "python",
   "name": "python3"
  },
  "language_info": {
   "codemirror_mode": {
    "name": "ipython",
    "version": 3
   },
   "file_extension": ".py",
   "mimetype": "text/x-python",
   "name": "python",
   "nbconvert_exporter": "python",
   "pygments_lexer": "ipython3",
   "version": "3.10.10"
  },
  "vscode": {
   "interpreter": {
    "hash": "31f2aee4e71d21fbe5cf8b01ff0e069b9275f58929596ceb00d14d90e3e16cd6"
   }
  }
 },
 "nbformat": 4,
 "nbformat_minor": 1
}
